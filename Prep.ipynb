{
 "cells": [
  {
   "cell_type": "markdown",
   "id": "3c260d5f-303f-4391-8e43-4730ddc50b84",
   "metadata": {},
   "source": [
    "# Data Preparation"
   ]
  },
  {
   "cell_type": "code",
   "execution_count": 1,
   "id": "1e4b49ef-8147-4781-987a-ebbed90825c6",
   "metadata": {},
   "outputs": [],
   "source": [
    "import pandas as pd\n",
    "import matplotlib.pyplot as plt\n",
    "import seaborn as sb\n",
    "import plotly.express as px"
   ]
  },
  {
   "cell_type": "code",
   "execution_count": 2,
   "id": "cee52396-12ed-42be-a45d-8774fe6366fc",
   "metadata": {},
   "outputs": [],
   "source": [
    "df = pd.read_csv('data/hotel_booking.csv')"
   ]
  },
  {
   "cell_type": "code",
   "execution_count": 3,
   "id": "bd42de29-cb03-42fb-8b02-3e1381e53a71",
   "metadata": {},
   "outputs": [],
   "source": [
    "# drop company, agent, name, email, phone-number, and credit_card\n",
    "df.drop(['company', 'agent', 'name', 'email', 'phone-number', 'credit_card'], axis=1, inplace=True)"
   ]
  },
  {
   "cell_type": "code",
   "execution_count": 4,
   "id": "dd5967c1-d54c-4254-b4e5-1b3b97266993",
   "metadata": {},
   "outputs": [
    {
     "name": "stdout",
     "output_type": "stream",
     "text": [
      "<class 'pandas.core.frame.DataFrame'>\n",
      "RangeIndex: 119390 entries, 0 to 119389\n",
      "Data columns (total 30 columns):\n",
      " #   Column                          Non-Null Count   Dtype  \n",
      "---  ------                          --------------   -----  \n",
      " 0   hotel                           119390 non-null  object \n",
      " 1   is_canceled                     119390 non-null  int64  \n",
      " 2   lead_time                       119390 non-null  int64  \n",
      " 3   arrival_date_year               119390 non-null  int64  \n",
      " 4   arrival_date_month              119390 non-null  object \n",
      " 5   arrival_date_week_number        119390 non-null  int64  \n",
      " 6   arrival_date_day_of_month       119390 non-null  int64  \n",
      " 7   stays_in_weekend_nights         119390 non-null  int64  \n",
      " 8   stays_in_week_nights            119390 non-null  int64  \n",
      " 9   adults                          119390 non-null  int64  \n",
      " 10  children                        119386 non-null  float64\n",
      " 11  babies                          119390 non-null  int64  \n",
      " 12  meal                            119390 non-null  object \n",
      " 13  country                         118902 non-null  object \n",
      " 14  market_segment                  119390 non-null  object \n",
      " 15  distribution_channel            119390 non-null  object \n",
      " 16  is_repeated_guest               119390 non-null  int64  \n",
      " 17  previous_cancellations          119390 non-null  int64  \n",
      " 18  previous_bookings_not_canceled  119390 non-null  int64  \n",
      " 19  reserved_room_type              119390 non-null  object \n",
      " 20  assigned_room_type              119390 non-null  object \n",
      " 21  booking_changes                 119390 non-null  int64  \n",
      " 22  deposit_type                    119390 non-null  object \n",
      " 23  days_in_waiting_list            119390 non-null  int64  \n",
      " 24  customer_type                   119390 non-null  object \n",
      " 25  adr                             119390 non-null  float64\n",
      " 26  required_car_parking_spaces     119390 non-null  int64  \n",
      " 27  total_of_special_requests       119390 non-null  int64  \n",
      " 28  reservation_status              119390 non-null  object \n",
      " 29  reservation_status_date         119390 non-null  object \n",
      "dtypes: float64(2), int64(16), object(12)\n",
      "memory usage: 27.3+ MB\n"
     ]
    }
   ],
   "source": [
    "df.info()"
   ]
  },
  {
   "cell_type": "code",
   "execution_count": 5,
   "id": "2ee49ad5-eb32-4b67-8df0-34d93eb6b7d4",
   "metadata": {},
   "outputs": [],
   "source": [
    "numerical = ['lead_time', 'stays_in_weekend_nights', 'stays_in_week_nights', 'adults', 'children', 'babies', 'previous_cancellations', 'previous_bookings_not_canceled', 'booking_changes', 'days_in_waiting_list', 'adr', 'required_car_parking_spaces', 'total_of_special_requests']\n",
    "categorical = ['hotel', 'arrival_date_year', 'arrival_date_month', 'arrival_date_week_number', 'meal', 'country', 'market_segment', 'distribution_channel', 'is_repeated_guest', 'reserved_room_type', 'assigned_room_type', 'deposit_type', 'customer_type']"
   ]
  },
  {
   "cell_type": "code",
   "execution_count": 6,
   "id": "bc29774f-8111-481e-9024-79387827467d",
   "metadata": {},
   "outputs": [
    {
     "data": {
      "text/plain": [
       "hotel                               0\n",
       "is_canceled                         0\n",
       "lead_time                           0\n",
       "arrival_date_year                   0\n",
       "arrival_date_month                  0\n",
       "arrival_date_week_number            0\n",
       "arrival_date_day_of_month           0\n",
       "stays_in_weekend_nights             0\n",
       "stays_in_week_nights                0\n",
       "adults                              0\n",
       "children                            4\n",
       "babies                              0\n",
       "meal                                0\n",
       "country                           488\n",
       "market_segment                      0\n",
       "distribution_channel                0\n",
       "is_repeated_guest                   0\n",
       "previous_cancellations              0\n",
       "previous_bookings_not_canceled      0\n",
       "reserved_room_type                  0\n",
       "assigned_room_type                  0\n",
       "booking_changes                     0\n",
       "deposit_type                        0\n",
       "days_in_waiting_list                0\n",
       "customer_type                       0\n",
       "adr                                 0\n",
       "required_car_parking_spaces         0\n",
       "total_of_special_requests           0\n",
       "reservation_status                  0\n",
       "reservation_status_date             0\n",
       "dtype: int64"
      ]
     },
     "execution_count": 6,
     "metadata": {},
     "output_type": "execute_result"
    }
   ],
   "source": [
    "df.isnull().sum()"
   ]
  },
  {
   "cell_type": "code",
   "execution_count": 7,
   "id": "34c6b8db-231f-42ff-8d14-99543f3d00f4",
   "metadata": {},
   "outputs": [
    {
     "data": {
      "text/plain": [
       "(119390, 30)"
      ]
     },
     "execution_count": 7,
     "metadata": {},
     "output_type": "execute_result"
    }
   ],
   "source": [
    "df.shape"
   ]
  },
  {
   "cell_type": "markdown",
   "id": "08a99fd5-267a-4d8d-ad23-cbd01c436d19",
   "metadata": {},
   "source": [
    "## Remove Missing Value"
   ]
  },
  {
   "cell_type": "code",
   "execution_count": 8,
   "id": "56908301-92e2-44c2-90ee-9a5fa8052b2d",
   "metadata": {},
   "outputs": [
    {
     "name": "stdout",
     "output_type": "stream",
     "text": [
      "meal                    1169\n",
      "market_segment             2\n",
      "distribution_channel       5\n",
      "dtype: int64\n"
     ]
    }
   ],
   "source": [
    "undefined_counts = (df == \"Undefined\").sum()\n",
    "print(undefined_counts[undefined_counts > 0])"
   ]
  },
  {
   "cell_type": "code",
   "execution_count": 9,
   "id": "d5d42d91-87aa-462f-b226-05ed6cad70dd",
   "metadata": {},
   "outputs": [],
   "source": [
    "df['meal'] = df['meal'].replace(\"Undefined\", pd.NA)\n",
    "df['distribution_channel'] = df['distribution_channel'].replace(\"Undefined\", pd.NA)"
   ]
  },
  {
   "cell_type": "code",
   "execution_count": 10,
   "id": "6eb5e4a5-6bd9-4635-9df5-cd7cf2b500bb",
   "metadata": {},
   "outputs": [],
   "source": [
    "df.dropna(inplace=True)"
   ]
  },
  {
   "cell_type": "markdown",
   "id": "b9240894-07fd-4789-bb29-c0a57b8c45a5",
   "metadata": {},
   "source": [
    "## Miscellaneous"
   ]
  },
  {
   "cell_type": "code",
   "execution_count": 11,
   "id": "798fa293-c232-4f11-a506-3e61d0cff165",
   "metadata": {},
   "outputs": [],
   "source": [
    "# Combine countries with small samples\n",
    "threshold = 500\n",
    "df['country'] = df['country'].apply(lambda x: x if df['country'].value_counts()[x] >= threshold else 'Other')"
   ]
  },
  {
   "cell_type": "code",
   "execution_count": 17,
   "id": "2f9f3113-017f-4b1d-9f24-3e4ec5779548",
   "metadata": {},
   "outputs": [
    {
     "data": {
      "text/plain": [
       "country\n",
       "PRT      47886\n",
       "GBR      12109\n",
       "FRA      10324\n",
       "ESP       8271\n",
       "DEU       7286\n",
       "Other     6879\n",
       "ITA       3763\n",
       "IRL       3374\n",
       "BEL       2341\n",
       "BRA       2222\n",
       "NLD       2104\n",
       "USA       2096\n",
       "CHE       1728\n",
       "CN        1270\n",
       "AUT       1263\n",
       "CHN        999\n",
       "SWE        990\n",
       "POL        919\n",
       "ISR        669\n",
       "RUS        632\n",
       "NOR        607\n",
       "Name: count, dtype: int64"
      ]
     },
     "execution_count": 17,
     "metadata": {},
     "output_type": "execute_result"
    }
   ],
   "source": [
    "df['country'].value_counts()"
   ]
  },
  {
   "cell_type": "code",
   "execution_count": 13,
   "id": "09860a38-1d6d-4040-97b7-cdcd39840813",
   "metadata": {},
   "outputs": [],
   "source": [
    "# reservation status and date would be known with cancellation, which will bias the model\n",
    "df.drop(['reservation_status', 'reservation_status_date'], axis=1, inplace=True)"
   ]
  },
  {
   "cell_type": "code",
   "execution_count": 14,
   "id": "9d11f7fd-c86e-46aa-ab74-238c2f21ae62",
   "metadata": {},
   "outputs": [
    {
     "name": "stdout",
     "output_type": "stream",
     "text": [
      "<class 'pandas.core.frame.DataFrame'>\n",
      "Index: 117732 entries, 0 to 119389\n",
      "Data columns (total 28 columns):\n",
      " #   Column                          Non-Null Count   Dtype  \n",
      "---  ------                          --------------   -----  \n",
      " 0   hotel                           117732 non-null  object \n",
      " 1   is_canceled                     117732 non-null  int64  \n",
      " 2   lead_time                       117732 non-null  int64  \n",
      " 3   arrival_date_year               117732 non-null  int64  \n",
      " 4   arrival_date_month              117732 non-null  object \n",
      " 5   arrival_date_week_number        117732 non-null  int64  \n",
      " 6   arrival_date_day_of_month       117732 non-null  int64  \n",
      " 7   stays_in_weekend_nights         117732 non-null  int64  \n",
      " 8   stays_in_week_nights            117732 non-null  int64  \n",
      " 9   adults                          117732 non-null  int64  \n",
      " 10  children                        117732 non-null  float64\n",
      " 11  babies                          117732 non-null  int64  \n",
      " 12  meal                            117732 non-null  object \n",
      " 13  country                         117732 non-null  object \n",
      " 14  market_segment                  117732 non-null  object \n",
      " 15  distribution_channel            117732 non-null  object \n",
      " 16  is_repeated_guest               117732 non-null  int64  \n",
      " 17  previous_cancellations          117732 non-null  int64  \n",
      " 18  previous_bookings_not_canceled  117732 non-null  int64  \n",
      " 19  reserved_room_type              117732 non-null  object \n",
      " 20  assigned_room_type              117732 non-null  object \n",
      " 21  booking_changes                 117732 non-null  int64  \n",
      " 22  deposit_type                    117732 non-null  object \n",
      " 23  days_in_waiting_list            117732 non-null  int64  \n",
      " 24  customer_type                   117732 non-null  object \n",
      " 25  adr                             117732 non-null  float64\n",
      " 26  required_car_parking_spaces     117732 non-null  int64  \n",
      " 27  total_of_special_requests       117732 non-null  int64  \n",
      "dtypes: float64(2), int64(16), object(10)\n",
      "memory usage: 26.0+ MB\n"
     ]
    }
   ],
   "source": [
    "df.info()"
   ]
  },
  {
   "cell_type": "markdown",
   "id": "f542fad1-5c2c-4ebc-86b5-6c649c16236f",
   "metadata": {},
   "source": [
    "## Train-Test Split with SMOTE"
   ]
  },
  {
   "cell_type": "markdown",
   "id": "4c40811b-2e7f-45b9-a28a-648b1f12e761",
   "metadata": {},
   "source": [
    "To prevent the model from becoming biased toward the majority class of the training set for each fold, we will apply <a href='https://imbalanced-learn.org/stable/references/generated/imblearn.over_sampling.SMOTE.html'>Synthetic Minority Over-sampling Technique (SMOTE)</a>, which creates synthetic data points for the minority class with the same features' distribution of the original dataset. This helps the model to learn from a more balanced dataset. SMOTE will be applied to only training set to prevent data leakage."
   ]
  },
  {
   "cell_type": "code",
   "execution_count": 15,
   "id": "efee8826-7f77-42e8-971e-61d71ca8672e",
   "metadata": {},
   "outputs": [],
   "source": [
    "# Export cleaned dataset\n",
    "df.to_csv('./data/hotel_cleaned.csv', index=False)"
   ]
  },
  {
   "cell_type": "code",
   "execution_count": 20,
   "id": "4bfdd857-5567-4474-b38f-8bf466bfa0ae",
   "metadata": {},
   "outputs": [
    {
     "name": "stdout",
     "output_type": "stream",
     "text": [
      "hotel\n",
      "['Resort Hotel' 'City Hotel']\n",
      "--------------------------------------------------\n",
      "arrival_date_month\n",
      "['July' 'August' 'September' 'October' 'November' 'December' 'January'\n",
      " 'February' 'March' 'April' 'May' 'June']\n",
      "--------------------------------------------------\n",
      "meal\n",
      "['BB' 'FB' 'HB' 'SC']\n",
      "--------------------------------------------------\n",
      "country\n",
      "['PRT' 'GBR' 'USA' 'ESP' 'IRL' 'FRA' 'Other' 'NOR' 'POL' 'DEU' 'BEL' 'CHE'\n",
      " 'CN' 'ITA' 'NLD' 'RUS' 'SWE' 'BRA' 'CHN' 'AUT' 'ISR']\n",
      "--------------------------------------------------\n",
      "market_segment\n",
      "['Direct' 'Corporate' 'Online TA' 'Offline TA/TO' 'Complementary' 'Groups'\n",
      " 'Aviation']\n",
      "--------------------------------------------------\n",
      "distribution_channel\n",
      "['Direct' 'Corporate' 'TA/TO' 'GDS']\n",
      "--------------------------------------------------\n",
      "reserved_room_type\n",
      "['C' 'A' 'D' 'E' 'G' 'F' 'H' 'L' 'B' 'P']\n",
      "--------------------------------------------------\n",
      "assigned_room_type\n",
      "['C' 'A' 'D' 'E' 'G' 'F' 'I' 'B' 'H' 'L' 'K' 'P']\n",
      "--------------------------------------------------\n",
      "deposit_type\n",
      "['No Deposit' 'Refundable' 'Non Refund']\n",
      "--------------------------------------------------\n",
      "customer_type\n",
      "['Transient' 'Contract' 'Transient-Party' 'Group']\n",
      "--------------------------------------------------\n"
     ]
    }
   ],
   "source": [
    "for col in df.describe(include='object').columns:\n",
    "    print(col)\n",
    "    print(df[col].unique())\n",
    "    print('-'*50)"
   ]
  },
  {
   "cell_type": "code",
   "execution_count": 19,
   "id": "a4a4f552-2885-4d7f-a1a5-479441fc3917",
   "metadata": {},
   "outputs": [],
   "source": [
    "from imblearn.over_sampling import SMOTENC\n",
    "from sklearn.model_selection import train_test_split\n",
    "\n",
    "X = df.drop(['is_canceled'], axis=1)\n",
    "y = df['is_canceled']\n",
    "\n",
    "# Split the data into training and test sets\n",
    "X_train, X_test, y_train, y_test = train_test_split(X, y, test_size=0.3, random_state=14)\n",
    "\n",
    "# Get categorical feature indices for SMOTENC\n",
    "cat_indices = [X_train.columns.get_loc(col) for col in categorical if col in X_train.columns]\n",
    "\n",
    "# Apply SMOTE before encoding\n",
    "smote = SMOTENC(random_state=42, categorical_features=cat_indices)\n",
    "X_resampled, y_resampled = smote.fit_resample(X_train, y_train)\n",
    "\n",
    "# Apply One-Hot Encoding\n",
    "one_hot_cols = ['country', 'hotel', 'arrival_date_month', 'meal', 'market_segment', \n",
    "                'distribution_channel', 'reserved_room_type', 'assigned_room_type', \n",
    "                'deposit_type', 'customer_type']\n",
    "X_resampled = pd.get_dummies(X_resampled, columns=one_hot_cols, drop_first=True)\n",
    "X_test = pd.get_dummies(X_test, columns=one_hot_cols, drop_first=True)\n",
    "\n",
    "# Ensure train and test sets have the same features\n",
    "X_resampled, X_test = X_resampled.align(X_test, join='left', axis=1, fill_value=0)\n",
    "\n",
    "# Export train-test split dataset\n",
    "train_data = pd.concat([X_resampled, y_resampled], axis=1)\n",
    "test_data = pd.concat([X_test, y_test], axis=1)\n",
    "\n",
    "train_data.to_csv(f'./data/train-test/train.csv', index=False)\n",
    "test_data.to_csv(f'./data/train-test/test.csv', index=False)"
   ]
  }
 ],
 "metadata": {
  "kernelspec": {
   "display_name": "venv",
   "language": "python",
   "name": "venv"
  },
  "language_info": {
   "codemirror_mode": {
    "name": "ipython",
    "version": 3
   },
   "file_extension": ".py",
   "mimetype": "text/x-python",
   "name": "python",
   "nbconvert_exporter": "python",
   "pygments_lexer": "ipython3",
   "version": "3.12.1"
  }
 },
 "nbformat": 4,
 "nbformat_minor": 5
}
